{
 "cells": [
  {
   "cell_type": "markdown",
   "metadata": {},
   "source": [
    "<center>\n",
    "    <img src=\"https://cf-courses-data.s3.us.cloud-object-storage.appdomain.cloud/IBMDeveloperSkillsNetwork-DS0105EN-SkillsNetwork/labs/Module2/images/SN_web_lightmode.png\" width=\"300\" alt=\"cognitiveclass.ai logo\">\n",
    "</center>\n"
   ]
  },
  {
   "cell_type": "markdown",
   "metadata": {
    "tags": []
   },
   "source": [
    "#DataScience tools and Ecosystem\n"
   ]
  },
  {
   "cell_type": "markdown",
   "metadata": {},
   "source": [
    "In this notebook, we're going to summarize Tools for Data Science and Ecosystem."
   ]
  },
  {
   "cell_type": "markdown",
   "metadata": {},
   "source": [
    "**Objective:-**\n",
    "\n",
    "this notebook will contain:-\n",
    "\n",
    "| Serial No's. | Contents                                     |\n",
    "|---------------|----------------------------------------------|\n",
    "| 1.            | Languages in Data Science                    |\n",
    "| 2.            | Libraries in Data Science                    |\n",
    "| 3.            | Tools in Data Science                        |\n",
    "| 4.            | Basic Arithmetic Expressions                |\n",
    "| 5.            | Code for Multiplication and Addition         |\n",
    "| 6.            | Code for Converting Minutes to Hours        |\n"
   ]
  },
  {
   "cell_type": "markdown",
   "metadata": {},
   "source": [
    "**Languages used for data science :-**\n",
    "\n",
    "1} **Python:-** \n",
    "   Current trending ,used for its simple codes, easy to read and extensive libraries such as Pandas,Matplotlib,sci-      kit learn,Numpy.\n",
    "\n",
    "2} **R:=** \n",
    "   Popular for statistical computing, data visualization, and machine learning.                                     \n",
    "\n",
    "3} **Julia:-**\n",
    "    famous for its speed and performance, mostly used scientific computing and numerical analysis.                  \n",
    "    \n",
    "4} **Scala:-** \n",
    "    Used in Apache Spark for distributed computing and big data processing.\n",
    "    \n",
    "there are many more languages used for data science but these are one of the most used languages for data science."
   ]
  },
  {
   "cell_type": "markdown",
   "metadata": {
    "tags": []
   },
   "source": [
    "**commonly used libraries used by Data Scientists include:-**\n",
    "\n",
    "1} **Pandas:** For data manipulation and analysis in Python.\n",
    "\n",
    "2} **NumPy:** For numerical computing in Python.\n",
    "\n",
    "3} **SciPy:** Library for advanced mathematics in Python.\n",
    "\n",
    "4} **Scikit-learn:** Simple and efficient tools for machine learning in Python.\n",
    "\n",
    "5} **TensorFlow:** Trending deep learning framework for building and training neural networks model.\n",
    "\n",
    "6} **PyTorch:** Deep learning framework with dynamic computational graphs.\n",
    "\n",
    "7} **Matplotlib:** Python library for creating static, animated, and interactive visualizations.\n",
    "\n",
    "8} **Seaborn:** More vibrant data visualization library which is based on Matplotlib,for drawing attractive andstatistical graphics.\n",
    "\n",
    "9} **Plotly:** Interactive graphing library for Python, known for its ability to create interactive and web-based visualizations.\n",
    "\n",
    "10} **ggplot:** Data visualization library for R, based on the Grammar of Graphics.\n",
    "\n",
    "11} **dplyr:** Library for data manipulation and transformation in R.\n",
    "\n",
    "12} **caret:** library for machine learning in R.\n"
   ]
  },
  {
   "cell_type": "markdown",
   "metadata": {},
   "source": [
    "**table of data science tools:-**\n",
    "\n",
    "| Sections               | Tool Name               |\n",
    "|------------------------|-------------------------|\n",
    "| Data Asset Management  | Apache Atlas            |\n",
    "|                        | Git                     |\n",
    "|                        | GitHub                  |\n",
    "| Code Asset Management  | GitLab                  |\n",
    "|                        | Apache AirFlow          |\n",
    "| Data Visualization     | Pixie Dust              |\n",
    "|                        | Hue                     |\n",
    "|                        | Apache Superset         |\n",
    "| Model Building         | IBM Watson Machine Learning |\n",
    "| Model Deployment       | Apache PredictionIO     |\n",
    "|                        | Seldon                  |\n",
    "|                        | TensorFlow Service      |\n",
    "|                        | TensorFlow Lite         |\n",
    "| Model Monitoring       | ModelDB                 |\n",
    "|                        | Prometheus              |\n",
    "|                        | IBM AI Fairness 360     |\n",
    "|                        | IBM AI Explainability 360 |"
   ]
  },
  {
   "cell_type": "markdown",
   "metadata": {},
   "source": [
    "**Below are a few examples of evaluating arithmetic expressions:-**\n",
    "\n",
    "Addition: 12+5=17\n",
    "\n",
    "Subtraction: 15 − 7=8\n",
    "\n",
    "Multiplication:5×6=30\n",
    "\n",
    "Division: 15/5=3"
   ]
  },
  {
   "cell_type": "code",
   "execution_count": 6,
   "metadata": {
    "tags": []
   },
   "outputs": [
    {
     "name": "stdout",
     "output_type": "stream",
     "text": [
      "Exercise 8\n",
      "this exppression shows a simple multiplication and addition using 4 numbers:(15*32)+(2+25)\n",
      "the answer of expression is : 507\n"
     ]
    }
   ],
   "source": [
    "print('Exercise 8')\n",
    "a=15\n",
    "b=32\n",
    "c=2\n",
    "d=25\n",
    "e=(a*b)+(c+d)\n",
    "print(\"this exppression shows a simple multiplication and addition using 4 numbers:(15*32)+(2+25)\")\n",
    "print(\"the answer of expression is :\",e)"
   ]
  },
  {
   "cell_type": "code",
   "execution_count": 8,
   "metadata": {
    "tags": []
   },
   "outputs": [
    {
     "name": "stdout",
     "output_type": "stream",
     "text": [
      "Exercise 9\n",
      "180 minutes is converted to 3.0 hours.\n"
     ]
    }
   ],
   "source": [
    "print('Exercise 9')\n",
    "mints = 180\n",
    "hrs = mints / 60\n",
    "print(mints, \"minutes is converted to\", hrs, \"hours.\")\n"
   ]
  },
  {
   "cell_type": "markdown",
   "metadata": {
    "tags": []
   },
   "source": [
    "## Author\n",
    "\n",
    "Rishav Kumar\n"
   ]
  },
  {
   "cell_type": "code",
   "execution_count": null,
   "metadata": {},
   "outputs": [],
   "source": []
  }
 ],
 "metadata": {
  "kernelspec": {
   "display_name": "Python",
   "language": "python",
   "name": "conda-env-python-py"
  },
  "language_info": {
   "codemirror_mode": {
    "name": "ipython",
    "version": 3
   },
   "file_extension": ".py",
   "mimetype": "text/x-python",
   "name": "python",
   "nbconvert_exporter": "python",
   "pygments_lexer": "ipython3",
   "version": "3.7.12"
  }
 },
 "nbformat": 4,
 "nbformat_minor": 4
}
